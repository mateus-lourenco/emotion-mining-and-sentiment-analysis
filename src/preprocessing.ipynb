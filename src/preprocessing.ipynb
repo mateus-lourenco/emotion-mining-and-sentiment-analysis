{
 "cells": [
  {
   "cell_type": "code",
   "execution_count": 72,
   "metadata": {},
   "outputs": [],
   "source": [
    "#!pip install -r requirements.txt"
   ]
  },
  {
   "cell_type": "code",
   "execution_count": 10,
   "metadata": {},
   "outputs": [],
   "source": [
    "import pandas as pd"
   ]
  },
  {
   "cell_type": "code",
   "execution_count": 8,
   "metadata": {
    "colab": {
     "base_uri": "https://localhost:8080/",
     "height": 206
    },
    "executionInfo": {
     "elapsed": 806,
     "status": "ok",
     "timestamp": 1648597741011,
     "user": {
      "displayName": "Mateus Cunha Lourenço",
      "userId": "17013560479942289923"
     },
     "user_tz": 180
    },
    "id": "qgfIb_44n_iY",
    "outputId": "6ef20146-e3e1-4e4f-81bf-5c437b872819"
   },
   "outputs": [
    {
     "data": {
      "text/plain": [
       "(13405, 7)"
      ]
     },
     "execution_count": 8,
     "metadata": {},
     "output_type": "execute_result"
    }
   ],
   "source": [
    "df = pd.read_csv('./data/lyrics.csv', sep=';', encoding=\"utf-8\")\n",
    "df.shape"
   ]
  },
  {
   "cell_type": "markdown",
   "metadata": {
    "id": "UJThpaqxyu-q"
   },
   "source": [
    "1. Remoção dos títulos das músicas que contenham os caracteres '()' "
   ]
  },
  {
   "cell_type": "code",
   "execution_count": 9,
   "metadata": {
    "id": "pLJkEckLGFs5"
   },
   "outputs": [],
   "source": [
    "df['title'].replace(\"\\((.*?)\\)\", '', regex=True, inplace=True)"
   ]
  },
  {
   "cell_type": "markdown",
   "metadata": {
    "id": "Dl_pJYjmBhS9"
   },
   "source": [
    "\n",
    "\n",
    "2. Remoção das músicas duplicadas a partir do título"
   ]
  },
  {
   "cell_type": "code",
   "execution_count": 10,
   "metadata": {
    "colab": {
     "base_uri": "https://localhost:8080/"
    },
    "executionInfo": {
     "elapsed": 4103,
     "status": "ok",
     "timestamp": 1648597745100,
     "user": {
      "displayName": "Mateus Cunha Lourenço",
      "userId": "17013560479942289923"
     },
     "user_tz": 180
    },
    "id": "wewiz2rJp7mn",
    "outputId": "951f22c1-e4c0-4627-cd12-eb1d91788d38"
   },
   "outputs": [
    {
     "name": "stdout",
     "output_type": "stream",
     "text": [
      "Quantidade de duplicatas: 3484\n"
     ]
    }
   ],
   "source": [
    "df['title'] = df['title'].str.lower()\n",
    "df['title'] = df['title'].str.strip()\n",
    "\n",
    "titles = [i for i in df['title']]\n",
    "\n",
    "duplicates = [i for i in titles if titles.count(i) > 1]\n",
    "print(f'Quantidade de duplicatas: {len(duplicates)}')"
   ]
  },
  {
   "cell_type": "code",
   "execution_count": 11,
   "metadata": {
    "colab": {
     "base_uri": "https://localhost:8080/"
    },
    "executionInfo": {
     "elapsed": 359,
     "status": "ok",
     "timestamp": 1648597745450,
     "user": {
      "displayName": "Mateus Cunha Lourenço",
      "userId": "17013560479942289923"
     },
     "user_tz": 180
    },
    "id": "xMzdt0tcyfH5",
    "outputId": "5704f1be-10da-45b5-f915-a072910ad553"
   },
   "outputs": [
    {
     "name": "stdout",
     "output_type": "stream",
     "text": [
      "Quantidade de músicas após remoção das duplicatas: 9921\n"
     ]
    }
   ],
   "source": [
    "df = df[~df['title'].isin(duplicates)]\n",
    "print(f'Quantidade de músicas após remoção das duplicatas: {df.id.count()}')"
   ]
  },
  {
   "cell_type": "markdown",
   "metadata": {
    "id": "4OjwT4QIP6DD"
   },
   "source": [
    "3. Remoção das músicas sem data"
   ]
  },
  {
   "cell_type": "code",
   "execution_count": 12,
   "metadata": {
    "colab": {
     "base_uri": "https://localhost:8080/"
    },
    "executionInfo": {
     "elapsed": 22,
     "status": "ok",
     "timestamp": 1648597745452,
     "user": {
      "displayName": "Mateus Cunha Lourenço",
      "userId": "17013560479942289923"
     },
     "user_tz": 180
    },
    "id": "2kAqfTutOJ3y",
    "outputId": "48d2a812-dc73-43a4-ca84-7022fe5d3a2c"
   },
   "outputs": [
    {
     "name": "stdout",
     "output_type": "stream",
     "text": [
      "Quantidade de músicas com data: 8176\n"
     ]
    }
   ],
   "source": [
    "df = df[df['year'] > 0]\n",
    "\n",
    "print(f'Quantidade de músicas com data: {df.id.count()}')"
   ]
  },
  {
   "cell_type": "markdown",
   "metadata": {
    "id": "jxMvcbz1IepS"
   },
   "source": [
    "4. Remoção dos registros sem letras"
   ]
  },
  {
   "cell_type": "code",
   "execution_count": 13,
   "metadata": {
    "colab": {
     "base_uri": "https://localhost:8080/"
    },
    "executionInfo": {
     "elapsed": 336,
     "status": "ok",
     "timestamp": 1648598631168,
     "user": {
      "displayName": "Mateus Cunha Lourenço",
      "userId": "17013560479942289923"
     },
     "user_tz": 180
    },
    "id": "tD2STUlLHriL",
    "outputId": "33677e2c-dcbc-4fc9-80ba-53e1eb38ccef"
   },
   "outputs": [
    {
     "name": "stdout",
     "output_type": "stream",
     "text": [
      "Quantidade de registros com letras: 8133\n"
     ]
    }
   ],
   "source": [
    "df = df[~df['lyric'].isnull()]\n",
    "print(f'Quantidade de registros com letras: {df.lyric.count()}')"
   ]
  },
  {
   "cell_type": "code",
   "execution_count": 13,
   "metadata": {},
   "outputs": [],
   "source": [
    "df = pd.read_csv('./data/clean_lyrics.csv')"
   ]
  },
  {
   "cell_type": "code",
   "execution_count": null,
   "metadata": {},
   "outputs": [],
   "source": [
    "#removendo ruídos das letras\n",
    "df['clean_lyric'] = df['lyric'].apply(clean_lyrics)"
   ]
  },
  {
   "cell_type": "code",
   "execution_count": 32,
   "metadata": {},
   "outputs": [],
   "source": [
    "#gerando decadas\n",
    "df['decade'] = df['year'].apply(decade)\n",
    "#df.tail()"
   ]
  },
  {
   "cell_type": "markdown",
   "metadata": {},
   "source": [
    "Foi identificado que algumas letras que apresentavam \n",
    "<br>\n",
    "sujeiras foram removidas pelo processo de limpeza.\n",
    "<br> \n",
    "Devido a isso foi necessário repetir a limpeza dos \n",
    "<br>\n",
    "registros que estavam com as letras das músicas nulas."
   ]
  },
  {
   "cell_type": "code",
   "execution_count": 42,
   "metadata": {},
   "outputs": [],
   "source": [
    "#removendo letras nulas\n",
    "df = df[~df['clean_lyric'].isnull()]"
   ]
  },
  {
   "cell_type": "code",
   "execution_count": 43,
   "metadata": {},
   "outputs": [
    {
     "data": {
      "text/html": [
       "<div>\n",
       "<style scoped>\n",
       "    .dataframe tbody tr th:only-of-type {\n",
       "        vertical-align: middle;\n",
       "    }\n",
       "\n",
       "    .dataframe tbody tr th {\n",
       "        vertical-align: top;\n",
       "    }\n",
       "\n",
       "    .dataframe thead th {\n",
       "        text-align: right;\n",
       "    }\n",
       "</style>\n",
       "<table border=\"1\" class=\"dataframe\">\n",
       "  <thead>\n",
       "    <tr style=\"text-align: right;\">\n",
       "      <th></th>\n",
       "      <th>id</th>\n",
       "      <th>title</th>\n",
       "      <th>artist</th>\n",
       "      <th>composer</th>\n",
       "      <th>album</th>\n",
       "      <th>year</th>\n",
       "      <th>lyric</th>\n",
       "      <th>decade</th>\n",
       "      <th>clean_lyric</th>\n",
       "      <th>unique_words</th>\n",
       "      <th>words</th>\n",
       "    </tr>\n",
       "  </thead>\n",
       "  <tbody>\n",
       "    <tr>\n",
       "      <th>0</th>\n",
       "      <td>2360</td>\n",
       "      <td>João Teimoso</td>\n",
       "      <td>Marília Batista</td>\n",
       "      <td>Noel Rosa / Marilia Batista.</td>\n",
       "      <td>Poeta da Vila</td>\n",
       "      <td>1953</td>\n",
       "      <td>Tenho mais o que fazer Não discuto com teimoso...</td>\n",
       "      <td>50</td>\n",
       "      <td>discuto teimoso perder precioso viver joão tei...</td>\n",
       "      <td>{precioso, viver, boas, coroas, nome, cismo, f...</td>\n",
       "      <td>[discuto, teimoso, perder, precioso, viver, jo...</td>\n",
       "    </tr>\n",
       "    <tr>\n",
       "      <th>1</th>\n",
       "      <td>2361</td>\n",
       "      <td>Morena Sereia</td>\n",
       "      <td>Marília Batista</td>\n",
       "      <td>José Maria De Abreu 1936 / Noel Rosa.</td>\n",
       "      <td>Poeta da Vila</td>\n",
       "      <td>1953</td>\n",
       "      <td>Morena sereia Que à beira-mar não passeia Que ...</td>\n",
       "      <td>50</td>\n",
       "      <td>morena sereia beiramar passeia senta praia dei...</td>\n",
       "      <td>{tufão, lindos, esqueci, nome, morena, derruba...</td>\n",
       "      <td>[morena, sereia, beiramar, passeia, senta, pra...</td>\n",
       "    </tr>\n",
       "    <tr>\n",
       "      <th>2</th>\n",
       "      <td>2362</td>\n",
       "      <td>Parabéns, Guanabara</td>\n",
       "      <td>Jackson do Pandeiro</td>\n",
       "      <td>NaN</td>\n",
       "      <td>Jackson do Pandeiro - 1955</td>\n",
       "      <td>1955</td>\n",
       "      <td>Rio, querida Guanabara Eu sou gente também Ace...</td>\n",
       "      <td>50</td>\n",
       "      <td>rio querida guanabara gente aceito parabéns pa...</td>\n",
       "      <td>{adoram, guanabara, vim, noel, aceito, bolo, c...</td>\n",
       "      <td>[rio, querida, guanabara, gente, aceito, parab...</td>\n",
       "    </tr>\n",
       "    <tr>\n",
       "      <th>3</th>\n",
       "      <td>2363</td>\n",
       "      <td>O Bom Xaxador</td>\n",
       "      <td>Jackson do Pandeiro</td>\n",
       "      <td>NaN</td>\n",
       "      <td>Jackson do Pandeiro - 1955</td>\n",
       "      <td>1955</td>\n",
       "      <td>Depois do baião foi que veio o forró Depois do...</td>\n",
       "      <td>50</td>\n",
       "      <td>baião veio forró forró veio rojão pisada chão ...</td>\n",
       "      <td>{rojão, veio, xaxado, vim, chão, forró, xaxa, ...</td>\n",
       "      <td>[baião, veio, forró, forró, veio, rojão, pisad...</td>\n",
       "    </tr>\n",
       "    <tr>\n",
       "      <th>4</th>\n",
       "      <td>2364</td>\n",
       "      <td>Cheguei Agora</td>\n",
       "      <td>Jackson do Pandeiro</td>\n",
       "      <td>NaN</td>\n",
       "      <td>Jackson do Pandeiro - 1955</td>\n",
       "      <td>1955</td>\n",
       "      <td>Beira mar beira do rio Ê ê beira mar Cheguei a...</td>\n",
       "      <td>50</td>\n",
       "      <td>beira mar beira rio ê ê beira mar cheguei beir...</td>\n",
       "      <td>{candomblé, bahia, ê, café, coco, carioca, sam...</td>\n",
       "      <td>[beira, mar, beira, rio, ê, ê, beira, mar, che...</td>\n",
       "    </tr>\n",
       "  </tbody>\n",
       "</table>\n",
       "</div>"
      ],
      "text/plain": [
       "     id                title               artist  \\\n",
       "0  2360         João Teimoso      Marília Batista   \n",
       "1  2361        Morena Sereia      Marília Batista   \n",
       "2  2362  Parabéns, Guanabara  Jackson do Pandeiro   \n",
       "3  2363        O Bom Xaxador  Jackson do Pandeiro   \n",
       "4  2364        Cheguei Agora  Jackson do Pandeiro   \n",
       "\n",
       "                                composer                       album  year  \\\n",
       "0           Noel Rosa / Marilia Batista.               Poeta da Vila  1953   \n",
       "1  José Maria De Abreu 1936 / Noel Rosa.               Poeta da Vila  1953   \n",
       "2                                    NaN  Jackson do Pandeiro - 1955  1955   \n",
       "3                                    NaN  Jackson do Pandeiro - 1955  1955   \n",
       "4                                    NaN  Jackson do Pandeiro - 1955  1955   \n",
       "\n",
       "                                               lyric  decade  \\\n",
       "0  Tenho mais o que fazer Não discuto com teimoso...      50   \n",
       "1  Morena sereia Que à beira-mar não passeia Que ...      50   \n",
       "2  Rio, querida Guanabara Eu sou gente também Ace...      50   \n",
       "3  Depois do baião foi que veio o forró Depois do...      50   \n",
       "4  Beira mar beira do rio Ê ê beira mar Cheguei a...      50   \n",
       "\n",
       "                                         clean_lyric  \\\n",
       "0  discuto teimoso perder precioso viver joão tei...   \n",
       "1  morena sereia beiramar passeia senta praia dei...   \n",
       "2  rio querida guanabara gente aceito parabéns pa...   \n",
       "3  baião veio forró forró veio rojão pisada chão ...   \n",
       "4  beira mar beira rio ê ê beira mar cheguei beir...   \n",
       "\n",
       "                                        unique_words  \\\n",
       "0  {precioso, viver, boas, coroas, nome, cismo, f...   \n",
       "1  {tufão, lindos, esqueci, nome, morena, derruba...   \n",
       "2  {adoram, guanabara, vim, noel, aceito, bolo, c...   \n",
       "3  {rojão, veio, xaxado, vim, chão, forró, xaxa, ...   \n",
       "4  {candomblé, bahia, ê, café, coco, carioca, sam...   \n",
       "\n",
       "                                               words  \n",
       "0  [discuto, teimoso, perder, precioso, viver, jo...  \n",
       "1  [morena, sereia, beiramar, passeia, senta, pra...  \n",
       "2  [rio, querida, guanabara, gente, aceito, parab...  \n",
       "3  [baião, veio, forró, forró, veio, rojão, pisad...  \n",
       "4  [beira, mar, beira, rio, ê, ê, beira, mar, che...  "
      ]
     },
     "execution_count": 43,
     "metadata": {},
     "output_type": "execute_result"
    }
   ],
   "source": [
    "# gerando colunas de palavras únicas\n",
    "df['unique_words'] = df['clean_lyric'].apply(unique)\n",
    "df.head()"
   ]
  },
  {
   "cell_type": "code",
   "execution_count": null,
   "metadata": {},
   "outputs": [],
   "source": [
    "# transformando letras em lista de palavras\n",
    "df['words'] = df['clean_lyric'].apply(to_words)\n",
    "df.head()"
   ]
  },
  {
   "cell_type": "code",
   "execution_count": 37,
   "metadata": {},
   "outputs": [],
   "source": [
    "#Passando os titulos para o padrão CamelCase\n",
    "df['title'] = df['title'].str.title()"
   ]
  },
  {
   "cell_type": "code",
   "execution_count": 15,
   "metadata": {},
   "outputs": [],
   "source": [
    "#armazenando\n",
    "df.to_csv('./data/clean_lyrics.csv', index=False)"
   ]
  },
  {
   "cell_type": "markdown",
   "metadata": {},
   "source": [
    "### Funções utilitárias"
   ]
  },
  {
   "cell_type": "code",
   "execution_count": 2,
   "metadata": {},
   "outputs": [],
   "source": [
    "#função para criar decadas\n",
    "decade = lambda year: int(((((year - (year % 10)) / 10) % 10) * 10))"
   ]
  },
  {
   "cell_type": "code",
   "execution_count": 3,
   "metadata": {},
   "outputs": [],
   "source": [
    "#função para retornar palavras em formato de lista\n",
    "to_words = lambda text: text.split()"
   ]
  },
  {
   "cell_type": "code",
   "execution_count": 4,
   "metadata": {},
   "outputs": [],
   "source": [
    "#função para retornar palavras unicas\n",
    "unique = lambda text: set(text.split())"
   ]
  },
  {
   "cell_type": "code",
   "execution_count": 5,
   "metadata": {},
   "outputs": [],
   "source": [
    "#carregando lista de acordes para remoção dentro das letras\n",
    "chords_df = pd.read_csv('./data/chords.txt')\n",
    "chords_dicty = chords_df.to_dict()\n",
    "chords = set()\n",
    "\n",
    "for i in chords_dicty['chord']:\n",
    "    chords.add(chords_dicty['chord'][i].strip())\n",
    "    \n",
    "#função para remoção de acordes dentro de um texto\n",
    "def remove_chords(text):\n",
    "    txt_list = text.split()\n",
    "    return (' ').join(\n",
    "            word.strip()\n",
    "            for word in txt_list\n",
    "            if word.strip() not in chords\n",
    "        )    "
   ]
  },
  {
   "cell_type": "code",
   "execution_count": 16,
   "metadata": {},
   "outputs": [],
   "source": [
    "import string\n",
    "import re\n",
    "import spacy\n",
    "\n",
    "nlp = spacy.load('pt_core_news_lg')\n",
    "\n",
    "def clean_lyrics(text):\n",
    "  txt = ''\n",
    "  #removendo acordes\n",
    "  txt = remove_chords(text)\n",
    "  #removendo tags de repetição 2x, 4x, etc\n",
    "  txt = txt.replace('[', '(').replace(']', ')')\n",
    "  txt = re.sub(r'\\([\\d]x\\)', '', txt)\n",
    "  #removendo números\n",
    "  txt = re.sub(r'[\\d]', '', txt)\n",
    "  #removendo palavras de orientação musical\n",
    "  txt = re.sub(r'\\((.*?)\\)', '', txt)  \n",
    "  #removendo pontuacao\n",
    "  txt = txt.translate(str.maketrans(\"\", \"\", string.punctuation))\n",
    "  #caracteres em minusculo   \n",
    "  txt = txt.lower()\n",
    "  #remove stop words\n",
    "  doc = nlp(txt)\n",
    "  txt = ' '.join(token.text \n",
    "                  for token in doc \n",
    "                  if not token.is_stop\n",
    "                  and not token.is_digit\n",
    "                )\n",
    "  \n",
    "  return txt"
   ]
  }
 ],
 "metadata": {
  "colab": {
   "authorship_tag": "ABX9TyNQR2xgyW7WOrCQnX18yeFp",
   "collapsed_sections": [],
   "name": "higienizacao_df.ipynb",
   "provenance": []
  },
  "kernelspec": {
   "display_name": "Python 3 (ipykernel)",
   "language": "python",
   "name": "python3"
  },
  "language_info": {
   "codemirror_mode": {
    "name": "ipython",
    "version": 3
   },
   "file_extension": ".py",
   "mimetype": "text/x-python",
   "name": "python",
   "nbconvert_exporter": "python",
   "pygments_lexer": "ipython3",
   "version": "3.8.10"
  }
 },
 "nbformat": 4,
 "nbformat_minor": 1
}
